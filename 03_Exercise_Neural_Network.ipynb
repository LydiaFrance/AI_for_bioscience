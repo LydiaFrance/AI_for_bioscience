{
 "cells": [
  {
   "cell_type": "markdown",
   "metadata": {},
   "source": [
    "Load and setup data for training the datasets separated in two files from originai datasets:\n",
    "\n",
    "`penguin-clean-train.csv` = datasets for training purpose, 70% from the original data\n",
    "\n",
    "`penguin-clean-test.csv`  = datasets for testing purpose, 30% from the original data\n"
   ]
  },
  {
   "cell_type": "code",
   "execution_count": 1,
   "metadata": {},
   "outputs": [],
   "source": [
    "\n",
    "import pandas as pd\n",
    "import numpy as np\n",
    "import matplotlib.pyplot as plt\n",
    "import seaborn as sns\n",
    "from sklearn.preprocessing import StandardScaler\n",
    "from sklearn.model_selection import train_test_split\n",
    "from sklearn.neural_network import MLPClassifier\n",
    "from sklearn.metrics import accuracy_score\n",
    "\n",
    "\n",
    "from palmerpenguins import load_penguins\n"
   ]
  },
  {
   "cell_type": "code",
   "execution_count": 47,
   "metadata": {},
   "outputs": [
    {
     "name": "stdout",
     "output_type": "stream",
     "text": [
      "{0: 'Adelie', 1: 'Chinstrap', 2: 'Gentoo'}\n"
     ]
    }
   ],
   "source": [
    "\n",
    "penguins_data = load_penguins()\n",
    "penguins_data.head()\n",
    "\n",
    "# ---- In real life, save your raw data before you clean data! ----\n",
    "\n",
    "# Ensuring a hard copy of the data is made. Sometimes you will encounter errors with soft copying in Python. \n",
    "penguins_clean = penguins_data.copy()\n",
    "\n",
    "# Drop rows with missing values\n",
    "penguins_clean = penguins_clean.dropna()\n",
    "\n",
    "# Remove the year and island columns\n",
    "penguins_clean = penguins_clean.drop(columns=['year', 'island'])\n",
    "\n",
    "# Make sex into a dummy variable\n",
    "penguins_clean = pd.get_dummies(penguins_clean, columns=[\"sex\"])\n",
    "\n",
    "# Remove the male column and chinstrap column\n",
    "penguins_clean = penguins_clean.drop(columns=['sex_male'])\n",
    "\n",
    "# Turn species into a numeric code\n",
    "penguins_clean['species'] = penguins_clean['species'].astype('category')\n",
    "\n",
    "# Lets save a dictionary of the species codes\n",
    "species_dict = dict(enumerate(penguins_clean['species'].cat.categories))\n",
    "print(species_dict)\n",
    "\n",
    "# Now we can replace the species column with the numeric codes\n",
    "penguins_clean['species'] = penguins_clean['species'].cat.codes"
   ]
  },
  {
   "cell_type": "code",
   "execution_count": 12,
   "metadata": {},
   "outputs": [
    {
     "data": {
      "text/plain": [
       "0    146\n",
       "2    119\n",
       "1     68\n",
       "Name: species, dtype: int64"
      ]
     },
     "execution_count": 12,
     "metadata": {},
     "output_type": "execute_result"
    }
   ],
   "source": [
    "\n",
    "penguins_clean[\"species_code\"].value_counts()\n"
   ]
  },
  {
   "cell_type": "code",
   "execution_count": 13,
   "metadata": {},
   "outputs": [
    {
     "data": {
      "text/html": [
       "<div>\n",
       "<style scoped>\n",
       "    .dataframe tbody tr th:only-of-type {\n",
       "        vertical-align: middle;\n",
       "    }\n",
       "\n",
       "    .dataframe tbody tr th {\n",
       "        vertical-align: top;\n",
       "    }\n",
       "\n",
       "    .dataframe thead th {\n",
       "        text-align: right;\n",
       "    }\n",
       "</style>\n",
       "<table border=\"1\" class=\"dataframe\">\n",
       "  <thead>\n",
       "    <tr style=\"text-align: right;\">\n",
       "      <th></th>\n",
       "      <th>species</th>\n",
       "      <th>bill_length_mm</th>\n",
       "      <th>bill_depth_mm</th>\n",
       "      <th>flipper_length_mm</th>\n",
       "      <th>body_mass_g</th>\n",
       "      <th>sex_female</th>\n",
       "    </tr>\n",
       "  </thead>\n",
       "  <tbody>\n",
       "    <tr>\n",
       "      <th>0</th>\n",
       "      <td>0</td>\n",
       "      <td>-0.896042</td>\n",
       "      <td>0.780732</td>\n",
       "      <td>-1.426752</td>\n",
       "      <td>-0.568475</td>\n",
       "      <td>0</td>\n",
       "    </tr>\n",
       "    <tr>\n",
       "      <th>1</th>\n",
       "      <td>0</td>\n",
       "      <td>-0.822788</td>\n",
       "      <td>0.119584</td>\n",
       "      <td>-1.069474</td>\n",
       "      <td>-0.506286</td>\n",
       "      <td>1</td>\n",
       "    </tr>\n",
       "    <tr>\n",
       "      <th>2</th>\n",
       "      <td>0</td>\n",
       "      <td>-0.676280</td>\n",
       "      <td>0.424729</td>\n",
       "      <td>-0.426373</td>\n",
       "      <td>-1.190361</td>\n",
       "      <td>1</td>\n",
       "    </tr>\n",
       "    <tr>\n",
       "      <th>4</th>\n",
       "      <td>0</td>\n",
       "      <td>-1.335566</td>\n",
       "      <td>1.085877</td>\n",
       "      <td>-0.569284</td>\n",
       "      <td>-0.941606</td>\n",
       "      <td>1</td>\n",
       "    </tr>\n",
       "    <tr>\n",
       "      <th>5</th>\n",
       "      <td>0</td>\n",
       "      <td>-0.859415</td>\n",
       "      <td>1.747026</td>\n",
       "      <td>-0.783651</td>\n",
       "      <td>-0.692852</td>\n",
       "      <td>0</td>\n",
       "    </tr>\n",
       "  </tbody>\n",
       "</table>\n",
       "</div>"
      ],
      "text/plain": [
       "   species  bill_length_mm  bill_depth_mm  flipper_length_mm  body_mass_g  \\\n",
       "0        0       -0.896042       0.780732          -1.426752    -0.568475   \n",
       "1        0       -0.822788       0.119584          -1.069474    -0.506286   \n",
       "2        0       -0.676280       0.424729          -0.426373    -1.190361   \n",
       "4        0       -1.335566       1.085877          -0.569284    -0.941606   \n",
       "5        0       -0.859415       1.747026          -0.783651    -0.692852   \n",
       "\n",
       "   sex_female  \n",
       "0           0  \n",
       "1           1  \n",
       "2           1  \n",
       "4           1  \n",
       "5           0  "
      ]
     },
     "execution_count": 13,
     "metadata": {},
     "output_type": "execute_result"
    }
   ],
   "source": [
    "\n",
    "# Standardize the data\n",
    "penguins_scaled = penguins_clean.copy()\n",
    "\n",
    "# Choose which columns to scale\n",
    "column_names = [\"bill_length_mm\", \"bill_depth_mm\", \"flipper_length_mm\", \"body_mass_g\"]\n",
    "\n",
    "# Create a scaler object\n",
    "scaler = StandardScaler()\n",
    "\n",
    "# Fit the scaler to the features and transform\n",
    "penguins_scaled[column_names] = scaler.fit_transform(penguins_scaled[column_names])\n",
    "\n",
    "penguins_scaled.head()"
   ]
  },
  {
   "cell_type": "code",
   "execution_count": 50,
   "metadata": {},
   "outputs": [
    {
     "name": "stderr",
     "output_type": "stream",
     "text": [
      "/Users/lfrance/Library/CloudStorage/OneDrive-TheAlanTuringInstitute/004_REG/001_Teaching/AI_for_bioscience/.venv/lib/python3.10/site-packages/sklearn/neural_network/_multilayer_perceptron.py:702: ConvergenceWarning: Stochastic Optimizer: Maximum iterations (20) reached and the optimization hasn't converged yet.\n",
      "  warnings.warn(\n"
     ]
    }
   ],
   "source": [
    "\n",
    "# Split the data into training and testing sets. A training set is used to train the model, and a testing set is used to evaluate the model.\n",
    "penguin_train, penguin_test = train_test_split(penguins_scaled, test_size=0.3, random_state=100)\n",
    "\n",
    "# Split the data into features and labels. The features are the columns used to make predictions, and the labels are the column we are trying to predict.\n",
    "penguin_train_features = penguin_train.drop(columns=[\"species\"])\n",
    "penguin_train_labels = penguin_train[\"species\"]\n",
    "\n",
    "penguin_test_features = penguin_test.drop(columns=[\"species\"])\n",
    "penguin_test_labels = penguin_test[\"species\"]\n",
    "\n",
    "# Using Multilayer perceptron model, with one hidden layer.\n",
    "\n",
    "# Create the model\n",
    "mlp = MLPClassifier(hidden_layer_sizes=(10),\n",
    "                    solver='sgd',\n",
    "                    learning_rate_init=0.01,\n",
    "                    max_iter=20,\n",
    "                    random_state=100)\n",
    "\n",
    "# Train the model\n",
    "mlp.fit(penguin_train_features, penguin_train_labels)\n",
    "\n",
    "# Make predictions\n",
    "mlp_train_predictions = mlp.predict(penguin_train_features)\n",
    "mlp_test_predictions = mlp.predict(penguin_test_features)\n",
    "\n"
   ]
  },
  {
   "cell_type": "code",
   "execution_count": 51,
   "metadata": {},
   "outputs": [
    {
     "name": "stdout",
     "output_type": "stream",
     "text": [
      "Training accuracy:  0.7939914163090128\n",
      "Test accuracy:  0.8\n"
     ]
    },
    {
     "data": {
      "text/plain": [
       "Text(0, 0.5, 'Loss')"
      ]
     },
     "execution_count": 51,
     "metadata": {},
     "output_type": "execute_result"
    },
    {
     "data": {
      "image/png": "[encoded data removed]",
      "text/plain": [
       "<Figure size 640x480 with 1 Axes>"
      ]
     },
     "metadata": {},
     "output_type": "display_data"
    }
   ],
   "source": [
    "\n",
    "# Evaluate the model\n",
    "\n",
    "# Training accuracy\n",
    "mlp_train_accuracy = accuracy_score(penguin_train_labels, mlp_train_predictions)\n",
    "print(\"Training accuracy: \", mlp_train_accuracy)\n",
    "\n",
    "# Test accuracy\n",
    "mlp_test_accuracy = accuracy_score(penguin_test_labels, mlp_test_predictions)\n",
    "print(\"Test accuracy: \", mlp_test_accuracy)\n",
    "\n",
    "# Plot the training and test accuracy. Training loss is the loss of the model on the training data. A low training loss means the model is a good fit for the training data. Epochs are the number of times the model is trained on the entire dataset.\n",
    "\n",
    "plt.plot(mlp.loss_curve_)\n",
    "plt.title(\"Training Loss\")\n",
    "plt.xlabel(\"Epochs\")\n",
    "plt.ylabel(\"Loss\")\n"
   ]
  },
  {
   "cell_type": "code",
   "execution_count": 43,
   "metadata": {},
   "outputs": [
    {
     "data": {
      "text/plain": [
       "Text(50.722222222222214, 0.5, 'Actual')"
      ]
     },
     "execution_count": 43,
     "metadata": {},
     "output_type": "execute_result"
    },
    {
     "data": {
      "image/png": "[encoded data removed]",
      "text/plain": [
       "<Figure size 640x480 with 2 Axes>"
      ]
     },
     "metadata": {},
     "output_type": "display_data"
    }
   ],
   "source": [
    "\n",
    "# Plot the confusion matrix. The confusion matrix shows how many times the model predicted each class correctly and incorrectly.\n",
    "\n",
    "# Create the confusion matrix\n",
    "mlp_confusion_matrix = pd.crosstab(penguin_test_labels, mlp_test_predictions, rownames=['Actual'], colnames=['Predicted'])\n",
    "\n",
    "\n",
    "# Plot the confusion matrix\n",
    "sns.heatmap(mlp_confusion_matrix, annot=True, fmt='d')\n",
    "plt.title(\"Confusion Matrix\")\n",
    "plt.xlabel(\"Predicted\")\n",
    "plt.ylabel(\"Actual\")\n",
    "\n"
   ]
  },
  {
   "cell_type": "code",
   "execution_count": 61,
   "metadata": {},
   "outputs": [
    {
     "data": {
      "text/plain": [
       "Adelie    20\n",
       "Name: prediction, dtype: int64"
      ]
     },
     "execution_count": 61,
     "metadata": {},
     "output_type": "execute_result"
    }
   ],
   "source": [
    "# Finding out what the model is doing wrong\n",
    "\n",
    "\n",
    "# Create a dataframe of the test data\n",
    "\n",
    "penguin_test_df = penguin_test.copy()\n",
    "\n",
    "\n",
    "\n",
    "# Add the predictions to the dataframe\n",
    "penguin_test_df[\"prediction\"] = mlp_test_predictions\n",
    "\n",
    "# Add the correct/incorrect column\n",
    "\n",
    "penguin_test_df[\"correct\"] = penguin_test_df[\"species\"] == penguin_test_df[\"prediction\"]\n",
    "\n",
    "# Change the species codes back to species names\n",
    "penguin_test_df[\"species\"] = penguin_test_df[\"species\"].map(species_dict)\n",
    "penguin_test_df[\"prediction\"] = penguin_test_df[\"prediction\"].map(species_dict)\n",
    "\n",
    "# Show the incorrect predictions\n",
    "penguin_test_df[penguin_test_df[\"correct\"] == False]\n",
    "\n"
   ]
  },
  {
   "cell_type": "code",
   "execution_count": null,
   "metadata": {},
   "outputs": [],
   "source": [
    "\n",
    "# # Count the number of incorrect predictions for each species\n",
    "penguin_test_df[penguin_test_df[\"correct\"] == False][\"species\"].value_counts()\n",
    "\n",
    "# # Count the false species predictions for each species\n",
    "penguin_test_df[penguin_test_df[\"correct\"] == False][\"prediction\"].value_counts()\n",
    "\n",
    "\n",
    "# The model is having trouble with the Chinstrap species. The model is predicting the Adelie species when it is actually a Chinstrap species. This is because the Adelie species has the most data points, and the model is overfitting to the Adelie species."
   ]
  }
 ],
 "metadata": {
  "kernelspec": {
   "display_name": "Python 3.10.8 ('.venv': poetry)",
   "language": "python",
   "name": "python3"
  },
  "language_info": {
   "codemirror_mode": {
    "name": "ipython",
    "version": 3
   },
   "file_extension": ".py",
   "mimetype": "text/x-python",
   "name": "python",
   "nbconvert_exporter": "python",
   "pygments_lexer": "ipython3",
   "version": "3.10.8 (main, Oct 13 2022, 10:17:43) [Clang 14.0.0 (clang-1400.0.29.102)]"
  },
  "orig_nbformat": 4,
  "vscode": {
   "interpreter": {
    "hash": "ef31dd5438aeacdac807a09262b089ee94518726fe343e3a909b9e885ad221c7"
   }
  }
 },
 "nbformat": 4,
 "nbformat_minor": 2
}
